{
 "cells": [
  {
   "cell_type": "markdown",
   "metadata": {},
   "source": [
    "# Perceptron algorithm for logic gates."
   ]
  },
  {
   "cell_type": "code",
   "execution_count": 23,
   "metadata": {},
   "outputs": [],
   "source": [
    "import numpy as np"
   ]
  },
  {
   "cell_type": "code",
   "execution_count": 24,
   "metadata": {},
   "outputs": [],
   "source": [
    "def unit_step(v):\n",
    "    if v >= 0:\n",
    "        return 1\n",
    "    else:\n",
    "        return 0\n",
    "def perceptron(x, w, b):\n",
    "    v = np.dot(w, x) + b\n",
    "    y = unit_step(v)\n",
    "    return y"
   ]
  },
  {
   "cell_type": "markdown",
   "metadata": {},
   "source": [
    "## AND GATE INPUTS & OUTPUTS\n",
    "<table>\n",
    "    <tr><th>Input : 1</th> <th>Input : 2</th> <th>Output</th></tr>\n",
    "    <tr><td>1</td> <td>1</td> <td>1</td></tr>\n",
    "    <tr><td>0</td> <td>1</td> <td>0</td></tr>\n",
    "    <tr><td>1</td> <td>0</td> <td>0</td></tr>\n",
    "    <tr><td>0</td> <td>0</td> <td>0</td></tr>\n",
    "</table>"
   ]
  },
  {
   "cell_type": "code",
   "execution_count": 25,
   "metadata": {},
   "outputs": [],
   "source": [
    "def AND_percep(x1,x2):\n",
    "    w = np.array([1, 1])\n",
    "    b =-1.5\n",
    "    x = np.array([x1,x2])\n",
    "    return perceptron(x, w, b)"
   ]
  },
  {
   "cell_type": "code",
   "execution_count": 26,
   "metadata": {},
   "outputs": [
    {
     "name": "stdout",
     "output_type": "stream",
     "text": [
      "AND(1, 1) = 1\n",
      "AND(1, 0) = 0\n",
      "AND(0, 1) = 0\n",
      "AND(0, 0) = 0\n"
     ]
    }
   ],
   "source": [
    "print(\"AND({}, {}) = {}\".format(1, 1, AND_percep(1,1)))\n",
    "print(\"AND({}, {}) = {}\".format(1, 0, AND_percep(1,0)))\n",
    "print(\"AND({}, {}) = {}\".format(0, 1, AND_percep(0,1)))\n",
    "print(\"AND({}, {}) = {}\".format(0, 0, AND_percep(0,0)))"
   ]
  },
  {
   "cell_type": "markdown",
   "metadata": {},
   "source": [
    "## OR GATE INPUTS & OUTPUTS\n",
    "<table>\n",
    "    <tr><th>Input : 1</th> <th>Input : 2</th> <th>Output</th></tr>\n",
    "    <tr><td>1</td> <td>1</td> <td>1</td></tr>\n",
    "    <tr><td>0</td> <td>1</td> <td>1</td></tr>\n",
    "    <tr><td>1</td> <td>0</td> <td>1</td></tr>\n",
    "    <tr><td>0</td> <td>0</td> <td>0</td></tr>\n",
    "</table>"
   ]
  },
  {
   "cell_type": "code",
   "execution_count": 27,
   "metadata": {},
   "outputs": [],
   "source": [
    "def OR_percep(x1,x2):\n",
    "    w = np.array([1, 1])\n",
    "    b =-0.5\n",
    "    x = np.array([x1,x2])\n",
    "    return perceptron(x, w,b)"
   ]
  },
  {
   "cell_type": "code",
   "execution_count": 28,
   "metadata": {},
   "outputs": [
    {
     "name": "stdout",
     "output_type": "stream",
     "text": [
      "OR(1, 1) = 1\n",
      "OR(1, 0) = 1\n",
      "OR(0, 1) = 1\n",
      "OR(0, 0) = 0\n"
     ]
    }
   ],
   "source": [
    "print(\"OR({}, {}) = {}\".format(1, 1, OR_percep(1,1)))\n",
    "print(\"OR({}, {}) = {}\".format(1, 0, OR_percep(1,0)))\n",
    "print(\"OR({}, {}) = {}\".format(0, 1, OR_percep(0,1)))\n",
    "print(\"OR({}, {}) = {}\".format(0, 0, OR_percep(0,0)))"
   ]
  },
  {
   "cell_type": "markdown",
   "metadata": {},
   "source": [
    "## NOT INPUTS & OUTPUTS :\n",
    "<table>\n",
    "    <tr><th>Input</th><th>Output</th></tr>\n",
    "    <tr><td>1</td> <td>0</td></tr>\n",
    "    <tr><td>0</td> <td>1</td></tr>\n",
    "</table>"
   ]
  },
  {
   "cell_type": "code",
   "execution_count": 29,
   "metadata": {},
   "outputs": [],
   "source": [
    "def NOT_percep(x):\n",
    "    return perceptron(x, w=-1, b=0.5)"
   ]
  },
  {
   "cell_type": "code",
   "execution_count": 30,
   "metadata": {},
   "outputs": [
    {
     "name": "stdout",
     "output_type": "stream",
     "text": [
      "NOT(0) = 1\n",
      "NOT(1) = 0\n"
     ]
    }
   ],
   "source": [
    "print(\"NOT(0) = {}\".format(NOT_percep(0)))\n",
    "print(\"NOT(1) = {}\".format(NOT_percep(1)))"
   ]
  },
  {
   "cell_type": "markdown",
   "metadata": {},
   "source": [
    "## XOR GATE INPUTS & OUTPUTS\n",
    "<table>\n",
    "    <tr><th>Input : 1</th> <th>Input : 2</th> <th>Output</th></tr>\n",
    "    <tr><td>1</td> <td>1</td> <td>0</td></tr>\n",
    "    <tr><td>0</td> <td>1</td> <td>1</td></tr>\n",
    "    <tr><td>1</td> <td>0</td> <td>1</td></tr>\n",
    "    <tr><td>0</td> <td>0</td> <td>0</td></tr>\n",
    "</table>"
   ]
  },
  {
   "cell_type": "code",
   "execution_count": 31,
   "metadata": {},
   "outputs": [],
   "source": [
    "def XOR_net(x1,x2):\n",
    "    out_1 = AND_percep(x1,x2)\n",
    "    out_2 = NOT_percep(out_1)\n",
    "    out_3 = OR_percep(x1,x2)\n",
    "    output = AND_percep(out_2,out_3)\n",
    "    return output"
   ]
  },
  {
   "cell_type": "code",
   "execution_count": 32,
   "metadata": {},
   "outputs": [
    {
     "name": "stdout",
     "output_type": "stream",
     "text": [
      "XOR(1, 1) = 0\n",
      "XOR(1, 0) = 1\n",
      "XOR(0, 1) = 1\n",
      "XOR(0, 0) = 0\n"
     ]
    }
   ],
   "source": [
    "print(\"XOR({}, {}) = {}\".format(1, 1, XOR_net(1,1)))\n",
    "print(\"XOR({}, {}) = {}\".format(1, 0, XOR_net(1,0)))\n",
    "print(\"XOR({}, {}) = {}\".format(0, 1, XOR_net(0,1)))\n",
    "print(\"XOR({}, {}) = {}\".format(0, 0, XOR_net(0,0)))"
   ]
  },
  {
   "cell_type": "code",
   "execution_count": null,
   "metadata": {},
   "outputs": [],
   "source": []
  }
 ],
 "metadata": {
  "kernelspec": {
   "display_name": "Python 3",
   "language": "python",
   "name": "python3"
  },
  "language_info": {
   "codemirror_mode": {
    "name": "ipython",
    "version": 3
   },
   "file_extension": ".py",
   "mimetype": "text/x-python",
   "name": "python",
   "nbconvert_exporter": "python",
   "pygments_lexer": "ipython3",
   "version": "3.7.1"
  }
 },
 "nbformat": 4,
 "nbformat_minor": 4
}
