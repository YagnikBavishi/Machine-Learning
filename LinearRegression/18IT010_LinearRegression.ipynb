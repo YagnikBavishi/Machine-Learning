{
 "cells": [
  {
   "cell_type": "markdown",
   "metadata": {},
   "source": [
    "## Import Library"
   ]
  },
  {
   "cell_type": "code",
   "execution_count": 43,
   "metadata": {},
   "outputs": [],
   "source": [
    "import numpy as np\n",
    "import pandas as pd\n",
    "import matplotlib.pyplot as plt\n",
    "from sklearn import linear_model"
   ]
  },
  {
   "cell_type": "markdown",
   "metadata": {},
   "source": [
    "## Q1.Why you want to apply regression on selected dataset?"
   ]
  },
  {
   "cell_type": "markdown",
   "metadata": {},
   "source": [
    "WaistWeightDataset all about the waist and weight.In this data set there are two column one is waist and another weight.In the data set Waist is in cm and weight in kg. "
   ]
  },
  {
   "cell_type": "code",
   "execution_count": 44,
   "metadata": {},
   "outputs": [],
   "source": [
    "df=pd.read_csv('WaistWeightdataset.csv')"
   ]
  },
  {
   "cell_type": "code",
   "execution_count": 45,
   "metadata": {},
   "outputs": [
    {
     "data": {
      "text/html": [
       "<div>\n",
       "<style scoped>\n",
       "    .dataframe tbody tr th:only-of-type {\n",
       "        vertical-align: middle;\n",
       "    }\n",
       "\n",
       "    .dataframe tbody tr th {\n",
       "        vertical-align: top;\n",
       "    }\n",
       "\n",
       "    .dataframe thead th {\n",
       "        text-align: right;\n",
       "    }\n",
       "</style>\n",
       "<table border=\"1\" class=\"dataframe\">\n",
       "  <thead>\n",
       "    <tr style=\"text-align: right;\">\n",
       "      <th></th>\n",
       "      <th>Waist_cm</th>\n",
       "      <th>Weight_kg</th>\n",
       "    </tr>\n",
       "  </thead>\n",
       "  <tbody>\n",
       "    <tr>\n",
       "      <th>0</th>\n",
       "      <td>71</td>\n",
       "      <td>51</td>\n",
       "    </tr>\n",
       "    <tr>\n",
       "      <th>1</th>\n",
       "      <td>89</td>\n",
       "      <td>66</td>\n",
       "    </tr>\n",
       "    <tr>\n",
       "      <th>2</th>\n",
       "      <td>64</td>\n",
       "      <td>45</td>\n",
       "    </tr>\n",
       "    <tr>\n",
       "      <th>3</th>\n",
       "      <td>74</td>\n",
       "      <td>57</td>\n",
       "    </tr>\n",
       "    <tr>\n",
       "      <th>4</th>\n",
       "      <td>87</td>\n",
       "      <td>64</td>\n",
       "    </tr>\n",
       "    <tr>\n",
       "      <th>5</th>\n",
       "      <td>93</td>\n",
       "      <td>75</td>\n",
       "    </tr>\n",
       "    <tr>\n",
       "      <th>6</th>\n",
       "      <td>79</td>\n",
       "      <td>61</td>\n",
       "    </tr>\n",
       "    <tr>\n",
       "      <th>7</th>\n",
       "      <td>81</td>\n",
       "      <td>62</td>\n",
       "    </tr>\n",
       "    <tr>\n",
       "      <th>8</th>\n",
       "      <td>75</td>\n",
       "      <td>55</td>\n",
       "    </tr>\n",
       "    <tr>\n",
       "      <th>9</th>\n",
       "      <td>72</td>\n",
       "      <td>53</td>\n",
       "    </tr>\n",
       "    <tr>\n",
       "      <th>10</th>\n",
       "      <td>70</td>\n",
       "      <td>48</td>\n",
       "    </tr>\n",
       "    <tr>\n",
       "      <th>11</th>\n",
       "      <td>66</td>\n",
       "      <td>46</td>\n",
       "    </tr>\n",
       "    <tr>\n",
       "      <th>12</th>\n",
       "      <td>81</td>\n",
       "      <td>63</td>\n",
       "    </tr>\n",
       "    <tr>\n",
       "      <th>13</th>\n",
       "      <td>78</td>\n",
       "      <td>60</td>\n",
       "    </tr>\n",
       "    <tr>\n",
       "      <th>14</th>\n",
       "      <td>110</td>\n",
       "      <td>100</td>\n",
       "    </tr>\n",
       "  </tbody>\n",
       "</table>\n",
       "</div>"
      ],
      "text/plain": [
       "    Waist_cm  Weight_kg\n",
       "0         71         51\n",
       "1         89         66\n",
       "2         64         45\n",
       "3         74         57\n",
       "4         87         64\n",
       "5         93         75\n",
       "6         79         61\n",
       "7         81         62\n",
       "8         75         55\n",
       "9         72         53\n",
       "10        70         48\n",
       "11        66         46\n",
       "12        81         63\n",
       "13        78         60\n",
       "14       110        100"
      ]
     },
     "execution_count": 45,
     "metadata": {},
     "output_type": "execute_result"
    }
   ],
   "source": [
    "df"
   ]
  },
  {
   "cell_type": "code",
   "execution_count": 46,
   "metadata": {},
   "outputs": [
    {
     "data": {
      "text/plain": [
       "(15, 2)"
      ]
     },
     "execution_count": 46,
     "metadata": {},
     "output_type": "execute_result"
    }
   ],
   "source": [
    "df.shape"
   ]
  },
  {
   "cell_type": "markdown",
   "metadata": {},
   "source": [
    "## Q2.How many total observations in data?"
   ]
  },
  {
   "cell_type": "markdown",
   "metadata": {},
   "source": [
    "As show above there are total 15 observation is there."
   ]
  },
  {
   "cell_type": "markdown",
   "metadata": {},
   "source": [
    "## Q3.How many independent variables?"
   ]
  },
  {
   "cell_type": "markdown",
   "metadata": {},
   "source": [
    "There are only one independent variable is Waist_cm."
   ]
  },
  {
   "cell_type": "markdown",
   "metadata": {},
   "source": [
    "## Q4.Which is dependent variable?"
   ]
  },
  {
   "cell_type": "markdown",
   "metadata": {},
   "source": [
    "Weight_kg is dependent variable"
   ]
  },
  {
   "cell_type": "markdown",
   "metadata": {},
   "source": [
    "## Q5.Which are most useful variable in estimation? Prove using correlation."
   ]
  },
  {
   "cell_type": "markdown",
   "metadata": {},
   "source": [
    "In this data set only one independent variable.So there is no selection of most useful variable.But following correlation between indepented varible is there."
   ]
  },
  {
   "cell_type": "code",
   "execution_count": 47,
   "metadata": {},
   "outputs": [
    {
     "data": {
      "image/png": "[encoded data removed]",
      "text/plain": [
       "<Figure size 432x288 with 1 Axes>"
      ]
     },
     "metadata": {
      "needs_background": "light"
     },
     "output_type": "display_data"
    }
   ],
   "source": [
    "df.plot(kind='scatter',x='Waist_cm',y='Weight_kg')\n",
    "plt.show()"
   ]
  },
  {
   "cell_type": "code",
   "execution_count": 48,
   "metadata": {},
   "outputs": [
    {
     "name": "stdout",
     "output_type": "stream",
     "text": [
      "79.33333333333333 60.4\n",
      "1.1347070844686649 -29.620095367847405\n"
     ]
    },
    {
     "data": {
      "image/png": "[encoded data removed]",
      "text/plain": [
       "<Figure size 432x288 with 1 Axes>"
      ]
     },
     "metadata": {
      "needs_background": "light"
     },
     "output_type": "display_data"
    }
   ],
   "source": [
    "x_bar=df.Waist_cm.sum()/df.Waist_cm.count()\n",
    "y_bar=df.Weight_kg.sum()/df.Weight_kg.count()\n",
    "print(x_bar,y_bar)\n",
    "n=((df.Waist_cm-x_bar)*(df.Weight_kg-y_bar)).sum()\n",
    "d=((df.Waist_cm-x_bar)**2).sum()\n",
    "m=n/d\n",
    "b=y_bar-m*x_bar\n",
    "print(m,b)\n",
    "predicted_df=pd.DataFrame(data=range(0,df.Waist_cm.max()),columns={'X'})\n",
    "predicted_df['Y']=predicted_df.X*m+(b)\n",
    "x=predicted_df['X']\n",
    "y=predicted_df['Y']\n",
    "plt.plot(x,y,c='black')\n",
    "plt.scatter(df.Waist_cm,df.Weight_kg)\n",
    "plt.xlabel('X')\n",
    "plt.ylabel('Y')\n",
    "plt.title(\"plot for Regression fit\")\n",
    "plt.show()"
   ]
  },
  {
   "cell_type": "markdown",
   "metadata": {},
   "source": [
    "## Implementation of LR using Gradient Descent"
   ]
  },
  {
   "cell_type": "markdown",
   "metadata": {},
   "source": [
    "We will take m=0 and b=0 as initial values which is just horizontal line.\n",
    "\n",
    "Our task is determine the optimum value of m and c, such that the line corresponding to those values is the best fitting line or gives the minimum error.\n",
    "\n",
    "Error in current values of m and c is called as loss function. It means that we need to optimize loss function to reduce error in m and b.\n"
   ]
  },
  {
   "cell_type": "markdown",
   "metadata": {},
   "source": [
    "m=0\n",
    "\n",
    "c=0\n",
    "\n",
    "L=0.00001\n",
    "\n",
    "epochs=1000\n",
    "\n",
    "Here m and c is 0 and Leaning rate is 0.00001 and also epochs is 1000.\n",
    "\n",
    "Code is below.\n",
    "\n",
    "D_m=(-2/n)*sum(Waist_cm*(Weight_kg-Y_pred))\n",
    "\n",
    "D_c=(-2/n)*sum(Weight_kg-Y_pred)\n",
    "\n",
    "m=m-L*D_m\n",
    "\n",
    "c=c-L*D_c\n",
    "\n",
    "Here the process repeat untill our loss function is very small or 0."
   ]
  },
  {
   "cell_type": "code",
   "execution_count": 49,
   "metadata": {},
   "outputs": [],
   "source": [
    "Waist_cm=df.iloc[:,0]\n",
    "Weight_kg=df.iloc[:,1]\n"
   ]
  },
  {
   "cell_type": "code",
   "execution_count": 50,
   "metadata": {},
   "outputs": [
    {
     "name": "stdout",
     "output_type": "stream",
     "text": [
      "0.7691069477703256 -0.014565788494759669\n"
     ]
    }
   ],
   "source": [
    "m=0\n",
    "c=0\n",
    "L=0.00001\n",
    "epochs=2000\n",
    "n=float(len(Waist_cm))\n",
    "for i in range(epochs):\n",
    "    Y_pred=m*Waist_cm+c\n",
    "    D_m=(-2/n)*sum(Waist_cm*(Weight_kg-Y_pred))\n",
    "    D_c=(-2/n)*sum(Weight_kg-Y_pred)\n",
    "    m=m-L*D_m\n",
    "    c=c-L*D_c\n",
    "print(m,c)"
   ]
  },
  {
   "cell_type": "markdown",
   "metadata": {},
   "source": [
    "## RMSE & R2 score"
   ]
  },
  {
   "cell_type": "markdown",
   "metadata": {},
   "source": [
    "Root mean square error or root mean square deviation is one of the most commonly used measures for evaluating the quality of predictions. It shows how far predictions fall from measured true values using Euclidean distance.\n",
    "\n",
    "To compute RMSE, calculate the residual (difference between prediction and truth) for each data point, compute the norm of residual for each data point, compute the mean of residuals and take the square root of that mean. RMSE is commonly used in supervised learning applications, as RMSE uses and needs true measurements at each predicted data point."
   ]
  },
  {
   "cell_type": "code",
   "execution_count": 51,
   "metadata": {},
   "outputs": [
    {
     "name": "stdout",
     "output_type": "stream",
     "text": [
      "RMSE 4.929246539784432 0.8607647953279142\n",
      "RMSE: 2.5484055851335117 R2 Score: 0.9627843958606758\n"
     ]
    }
   ],
   "source": [
    "from math import sqrt\n",
    "from sklearn.metrics import mean_squared_error\n",
    "from sklearn.metrics import r2_score\n",
    "from sklearn import linear_model\n",
    "Y_pred=m*Waist_cm+c\n",
    "print(\"RMSE\",sqrt(mean_squared_error(Weight_kg,Y_pred)),r2_score(Weight_kg,Y_pred))\n",
    "X=pd.DataFrame(df.Waist_cm)\n",
    "Y=df.Weight_kg\n",
    "rg=linear_model.LinearRegression()\n",
    "rg.fit(X,Y)\n",
    "\n",
    "Y_pred=m*Waist_cm+c\n",
    "print(\"RMSE:\",sqrt(mean_squared_error(Y,rg.predict(X))) ,\"R2 Score:\",r2_score(Y,rg.predict(X)))\n"
   ]
  },
  {
   "cell_type": "code",
   "execution_count": 52,
   "metadata": {},
   "outputs": [
    {
     "data": {
      "image/png": "[encoded data removed]",
      "text/plain": [
       "<Figure size 432x288 with 1 Axes>"
      ]
     },
     "metadata": {
      "needs_background": "light"
     },
     "output_type": "display_data"
    }
   ],
   "source": [
    "plt.scatter(Waist_cm,Weight_kg)\n",
    "plt.plot([min(Waist_cm),max(Waist_cm)],[min(Y_pred),max(Y_pred)],color='red')\n",
    "plt.show()"
   ]
  },
  {
   "cell_type": "code",
   "execution_count": null,
   "metadata": {},
   "outputs": [],
   "source": []
  }
 ],
 "metadata": {
  "kernelspec": {
   "display_name": "Python 3",
   "language": "python",
   "name": "python3"
  },
  "language_info": {
   "codemirror_mode": {
    "name": "ipython",
    "version": 3
   },
   "file_extension": ".py",
   "mimetype": "text/x-python",
   "name": "python",
   "nbconvert_exporter": "python",
   "pygments_lexer": "ipython3",
   "version": "3.7.1"
  }
 },
 "nbformat": 4,
 "nbformat_minor": 4
}
